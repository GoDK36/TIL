{
 "metadata": {
  "language_info": {
   "codemirror_mode": {
    "name": "ipython",
    "version": 3
   },
   "file_extension": ".py",
   "mimetype": "text/x-python",
   "name": "python",
   "nbconvert_exporter": "python",
   "pygments_lexer": "ipython3",
   "version": 3
  },
  "orig_nbformat": 2,
  "kernelspec": {
   "name": "python_defaultSpec_1595487880774",
   "display_name": "Python 3.7.7 64-bit ('base': conda)"
  }
 },
 "nbformat": 4,
 "nbformat_minor": 2,
 "cells": [
  {
   "cell_type": "markdown",
   "metadata": {},
   "source": [
    "# Brute Force!"
   ]
  },
  {
   "cell_type": "markdown",
   "metadata": {},
   "source": [
    "## 블랙잭"
   ]
  },
  {
   "cell_type": "code",
   "execution_count": 1,
   "metadata": {
    "tags": []
   },
   "outputs": [
    {
     "output_type": "error",
     "ename": "ValueError",
     "evalue": "not enough values to unpack (expected 2, got 0)",
     "traceback": [
      "\u001b[1;31m---------------------------------------------------------------------------\u001b[0m",
      "\u001b[1;31mValueError\u001b[0m                                Traceback (most recent call last)",
      "\u001b[1;32m<ipython-input-1-8263f8e04571>\u001b[0m in \u001b[0;36m<module>\u001b[1;34m\u001b[0m\n\u001b[1;32m----> 1\u001b[1;33m \u001b[0mn\u001b[0m\u001b[1;33m,\u001b[0m \u001b[0mm\u001b[0m \u001b[1;33m=\u001b[0m \u001b[0mmap\u001b[0m\u001b[1;33m(\u001b[0m\u001b[0mint\u001b[0m\u001b[1;33m,\u001b[0m \u001b[0minput\u001b[0m\u001b[1;33m(\u001b[0m\u001b[1;33m)\u001b[0m\u001b[1;33m.\u001b[0m\u001b[0msplit\u001b[0m\u001b[1;33m(\u001b[0m\u001b[1;33m)\u001b[0m\u001b[1;33m)\u001b[0m\u001b[1;33m\u001b[0m\u001b[1;33m\u001b[0m\u001b[0m\n\u001b[0m\u001b[0;32m      2\u001b[0m \u001b[0mcard\u001b[0m \u001b[1;33m=\u001b[0m \u001b[0mlist\u001b[0m\u001b[1;33m(\u001b[0m\u001b[0mmap\u001b[0m\u001b[1;33m(\u001b[0m\u001b[0mint\u001b[0m\u001b[1;33m,\u001b[0m \u001b[0minput\u001b[0m\u001b[1;33m(\u001b[0m\u001b[1;33m)\u001b[0m\u001b[1;33m.\u001b[0m\u001b[0msplit\u001b[0m\u001b[1;33m(\u001b[0m\u001b[1;34m' '\u001b[0m\u001b[1;33m)\u001b[0m\u001b[1;33m)\u001b[0m\u001b[1;33m)\u001b[0m\u001b[1;33m\u001b[0m\u001b[1;33m\u001b[0m\u001b[0m\n\u001b[0;32m      3\u001b[0m \u001b[0mans\u001b[0m \u001b[1;33m=\u001b[0m \u001b[1;36m0\u001b[0m\u001b[1;33m\u001b[0m\u001b[1;33m\u001b[0m\u001b[0m\n\u001b[0;32m      4\u001b[0m \u001b[1;33m\u001b[0m\u001b[0m\n\u001b[0;32m      5\u001b[0m \u001b[1;32mfor\u001b[0m \u001b[0ma\u001b[0m \u001b[1;32min\u001b[0m \u001b[0mrange\u001b[0m\u001b[1;33m(\u001b[0m\u001b[1;36m0\u001b[0m\u001b[1;33m,\u001b[0m \u001b[0mn\u001b[0m \u001b[1;33m-\u001b[0m \u001b[1;36m2\u001b[0m\u001b[1;33m)\u001b[0m\u001b[1;33m:\u001b[0m\u001b[1;33m\u001b[0m\u001b[1;33m\u001b[0m\u001b[0m\n",
      "\u001b[1;31mValueError\u001b[0m: not enough values to unpack (expected 2, got 0)"
     ]
    }
   ],
   "source": [
    "n, m = map(int, input().split())\n",
    "card = list(map(int, input().split(' ')))\n",
    "ans = 0\n",
    "\n",
    "for a in range(0, n - 2):\n",
    "    for b in range(a + 1, n - 1):\n",
    "        for c in range(b + 1, n):\n",
    "            if card[a] + card[b] + card[c] > m:\n",
    "                continue\n",
    "            else:\n",
    "                ans = max(ans, card[a] + card[b] + card[c])\n",
    "print(ans)"
   ]
  },
  {
   "cell_type": "markdown",
   "metadata": {},
   "source": [
    "## 분해합!"
   ]
  },
  {
   "cell_type": "code",
   "execution_count": 6,
   "metadata": {
    "tags": []
   },
   "outputs": [
    {
     "output_type": "stream",
     "name": "stdout",
     "text": "198\n"
    }
   ],
   "source": [
    "n = int(input())\n",
    "res = 0\n",
    "for i in range(1, n+1):\n",
    "    div = list(map(int, str(i)))\n",
    "    sum_num = i + sum(div)\n",
    "    if(sum_num == n):\n",
    "        res = i\n",
    "        break\n",
    "print(res)"
   ]
  },
  {
   "cell_type": "code",
   "execution_count": 9,
   "metadata": {
    "tags": []
   },
   "outputs": [
    {
     "output_type": "stream",
     "name": "stdout",
     "text": "[1]\nl: [1]\n[2]\nl: [2]\n[3]\nl: [3]\n[4]\nl: [4]\n[5]\nl: [5]\n[6]\nl: [6]\n[7]\nl: [7]\n[8]\nl: [8]\n[9]\nl: [9]\n"
    }
   ],
   "source": [
    "for i in range(1, 10):\n",
    "    k = list(map(int, str(i)))\n",
    "    l = []\n",
    "    l.append(i)\n",
    "\n",
    "    print(k)\n",
    "    print('l:',l)"
   ]
  },
  {
   "cell_type": "markdown",
   "metadata": {},
   "source": [
    "## 덩치 등수 구하기!"
   ]
  },
  {
   "cell_type": "code",
   "execution_count": 2,
   "metadata": {},
   "outputs": [
    {
     "output_type": "error",
     "ename": "ValueError",
     "evalue": "too many values to unpack (expected 2)",
     "traceback": [
      "\u001b[1;31m---------------------------------------------------------------------------\u001b[0m",
      "\u001b[1;31mValueError\u001b[0m                                Traceback (most recent call last)",
      "\u001b[1;32m<ipython-input-2-abbfaf731091>\u001b[0m in \u001b[0;36m<module>\u001b[1;34m\u001b[0m\n\u001b[0;32m      2\u001b[0m \u001b[0mdung\u001b[0m \u001b[1;33m=\u001b[0m \u001b[1;33m[\u001b[0m\u001b[1;33m]\u001b[0m\u001b[1;33m\u001b[0m\u001b[1;33m\u001b[0m\u001b[0m\n\u001b[0;32m      3\u001b[0m \u001b[1;32mfor\u001b[0m \u001b[0mi\u001b[0m \u001b[1;32min\u001b[0m \u001b[0mrange\u001b[0m\u001b[1;33m(\u001b[0m\u001b[0mper_num\u001b[0m\u001b[1;33m)\u001b[0m\u001b[1;33m:\u001b[0m\u001b[1;33m\u001b[0m\u001b[1;33m\u001b[0m\u001b[0m\n\u001b[1;32m----> 4\u001b[1;33m     \u001b[0mw\u001b[0m\u001b[1;33m,\u001b[0m \u001b[0mh\u001b[0m \u001b[1;33m=\u001b[0m \u001b[0mmap\u001b[0m\u001b[1;33m(\u001b[0m\u001b[0mint\u001b[0m\u001b[1;33m,\u001b[0m \u001b[0minput\u001b[0m\u001b[1;33m(\u001b[0m\u001b[1;33m)\u001b[0m\u001b[1;33m.\u001b[0m\u001b[0msplit\u001b[0m\u001b[1;33m(\u001b[0m\u001b[1;33m)\u001b[0m\u001b[1;33m)\u001b[0m\u001b[1;33m\u001b[0m\u001b[1;33m\u001b[0m\u001b[0m\n\u001b[0m\u001b[0;32m      5\u001b[0m     \u001b[0mdung\u001b[0m\u001b[1;33m.\u001b[0m\u001b[0mappend\u001b[0m\u001b[1;33m(\u001b[0m\u001b[1;33m(\u001b[0m\u001b[0mw\u001b[0m\u001b[1;33m,\u001b[0m \u001b[0mh\u001b[0m\u001b[1;33m)\u001b[0m\u001b[1;33m)\u001b[0m\u001b[1;33m\u001b[0m\u001b[1;33m\u001b[0m\u001b[0m\n\u001b[0;32m      6\u001b[0m \u001b[1;32mfor\u001b[0m \u001b[0mper\u001b[0m \u001b[1;32min\u001b[0m \u001b[0mdung\u001b[0m\u001b[1;33m:\u001b[0m\u001b[1;33m\u001b[0m\u001b[1;33m\u001b[0m\u001b[0m\n",
      "\u001b[1;31mValueError\u001b[0m: too many values to unpack (expected 2)"
     ]
    }
   ],
   "source": [
    "per_num = int(input())\n",
    "dung = []\n",
    "for i in range(per_num):\n",
    "    w, h = map(int, input().split())\n",
    "    dung.append((w, h))\n",
    "for per in dung:\n",
    "    rank = 1\n",
    "    for per2 in dung:\n",
    "        if per[0] < per2[0] and per[1] < per2[1]:\n",
    "            rank += 1\n",
    "    print(rank, end=' ')\n",
    "    "
   ]
  },
  {
   "cell_type": "markdown",
   "metadata": {},
   "source": [
    "## 체스판!"
   ]
  },
  {
   "cell_type": "code",
   "execution_count": 9,
   "metadata": {
    "tags": []
   },
   "outputs": [
    {
     "output_type": "stream",
     "name": "stdout",
     "text": "1\n"
    }
   ],
   "source": [
    "n, m = map(int, input().split())\n",
    "chess_list = []\n",
    "for row in range(n):\n",
    "    chess_list.append(input())\n",
    "cnt_min = 64\n",
    "\n",
    "for i in range(n - 7):\n",
    "    for j in range(m - 7):\n",
    "        cntW = 0\n",
    "        for k in range(i, i + 8):\n",
    "            for s in range(j, j + 8):\n",
    "                if k % 2 == 0 and s % 2 == 0:\n",
    "                    if chess_list[k][s] == 'B':\n",
    "                        cntW += 1\n",
    "                elif k % 2 == 1 and s % 2 == 1:\n",
    "                    if chess_list[k][s] == 'B':\n",
    "                        cntW += 1\n",
    "                elif k % 2 == 0 and s % 2 == 1:\n",
    "                    if chess_list[k][s] == 'W':\n",
    "                        cntW += 1\n",
    "                elif k % 2 == 1 and s % 2 == 0:\n",
    "                    if chess_list[k][s] == 'W':\n",
    "                        cntW += 1\n",
    "        cntB = 0\n",
    "        for k in range(i, i + 8):\n",
    "            for s in range(j, j + 8):\n",
    "                if k % 2 == 0 and s % 2 == 0:\n",
    "                    if chess_list[k][s] == 'W':\n",
    "                        cntB += 1\n",
    "                elif k % 2 == 1 and s % 2 == 1:\n",
    "                    if chess_list[k][s] == 'W':\n",
    "                        cntB += 1\n",
    "                elif k % 2 == 0 and s % 2 == 1:\n",
    "                    if chess_list[k][s] == 'B':\n",
    "                        cntB += 1\n",
    "                elif k % 2 == 1 and s % 2 == 0:\n",
    "                    if chess_list[k][s] == 'B':\n",
    "                        cntB += 1\n",
    "        cnt_min = min(cnt_min, cntW, cntB)\n",
    "print(cnt_min)"
   ]
  },
  {
   "cell_type": "markdown",
   "metadata": {},
   "source": [
    "## 종말의 수!"
   ]
  },
  {
   "cell_type": "code",
   "execution_count": 8,
   "metadata": {
    "tags": []
   },
   "outputs": [
    {
     "output_type": "stream",
     "name": "stdout",
     "text": "27666\n"
    }
   ],
   "source": [
    "n = int(input())\n",
    "order = 0\n",
    "last_num = 666\n",
    "while True:\n",
    "    if '666' in str(last_num):\n",
    "        order += 1\n",
    "    if order == n:\n",
    "        print(last_num)\n",
    "        break\n",
    "    last_num += 1"
   ]
  }
 ]
}