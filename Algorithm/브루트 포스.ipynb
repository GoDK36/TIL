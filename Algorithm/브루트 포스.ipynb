{
 "metadata": {
  "language_info": {
   "codemirror_mode": {
    "name": "ipython",
    "version": 3
   },
   "file_extension": ".py",
   "mimetype": "text/x-python",
   "name": "python",
   "nbconvert_exporter": "python",
   "pygments_lexer": "ipython3",
   "version": 3
  },
  "orig_nbformat": 2,
  "kernelspec": {
   "name": "python_defaultSpec_1595258757344",
   "display_name": "Python 3.7.7 64-bit ('base': conda)"
  }
 },
 "nbformat": 4,
 "nbformat_minor": 2,
 "cells": [
  {
   "cell_type": "code",
   "execution_count": 3,
   "metadata": {
    "tags": []
   },
   "outputs": [
    {
     "output_type": "stream",
     "name": "stdout",
     "text": "500\n"
    }
   ],
   "source": [
    "n, m = map(int, input().split())\n",
    "card = list(map(int, input().split(' ')))\n",
    "ans = 0\n",
    "\n",
    "for a in range(0, n - 2):\n",
    "    for b in range(a + 1, n - 1):\n",
    "        for c in range(b + 1, n):\n",
    "            if card[a] + card[b] + card[c] > m:\n",
    "                continue\n",
    "            else:\n",
    "                ans = max(ans, card[a] + card[b] + card[c])\n",
    "print(ans)"
   ]
  },
  {
   "cell_type": "code",
   "execution_count": 6,
   "metadata": {
    "tags": []
   },
   "outputs": [
    {
     "output_type": "stream",
     "name": "stdout",
     "text": "198\n"
    }
   ],
   "source": [
    "N = int(input())\n",
    "print_num = 0\n",
    "for i in range(1, N+1):\n",
    "    div_num = list(map(int, str(i)))\n",
    "    sum_num = i + sum(div_num)\n",
    "    if(sum_num == N):\n",
    "        print_num = i\n",
    "        break\n",
    "print(print_num)"
   ]
  },
  {
   "cell_type": "code",
   "execution_count": 9,
   "metadata": {
    "tags": []
   },
   "outputs": [
    {
     "output_type": "stream",
     "name": "stdout",
     "text": "[1]\nl: [1]\n[2]\nl: [2]\n[3]\nl: [3]\n[4]\nl: [4]\n[5]\nl: [5]\n[6]\nl: [6]\n[7]\nl: [7]\n[8]\nl: [8]\n[9]\nl: [9]\n"
    }
   ],
   "source": [
    "for i in range(1, 10):\n",
    "    k = list(map(int, str(i)))\n",
    "    l = []\n",
    "    l.append(i)\n",
    "\n",
    "    print(k)\n",
    "    print('l:',l)"
   ]
  },
  {
   "cell_type": "code",
   "execution_count": null,
   "metadata": {},
   "outputs": [],
   "source": []
  }
 ]
}