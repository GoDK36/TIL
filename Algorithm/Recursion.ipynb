{
 "cells": [
  {
   "cell_type": "markdown",
   "metadata": {},
   "source": [
    "# 재귀"
   ]
  },
  {
   "cell_type": "code",
   "execution_count": 16,
   "metadata": {
    "tags": []
   },
   "outputs": [
    {
     "output_type": "stream",
     "name": "stdout",
     "text": "10\n9\n8\n7\n6\n5\n4\n3\n2\n1\nCount Finished!\nNone\n"
    }
   ],
   "source": [
    "def CountNum(num):\n",
    "    if num == 0:\n",
    "        print(\"Count Finished!\")\n",
    "    else:\n",
    "        print(num)\n",
    "        CountNum(num - 1)\n",
    "\n",
    "print(CountNum(10))"
   ]
  },
  {
   "cell_type": "markdown",
   "metadata": {},
   "source": [
    "## 1. 재귀를 사용한 팩토리얼 구현하기"
   ]
  },
  {
   "cell_type": "code",
   "execution_count": 2,
   "metadata": {
    "tags": []
   },
   "outputs": [
    {
     "output_type": "stream",
     "name": "stdout",
     "text": "362880\n"
    }
   ],
   "source": [
    "n = int(input())\n",
    "\n",
    "def factorial(num):\n",
    "    if num <= 1:\n",
    "        return(1)\n",
    "    return(num * factorial(num-1))\n",
    "\n",
    "print(factorial(n))"
   ]
  },
  {
   "cell_type": "markdown",
   "metadata": {},
   "source": [
    "## 2. 재귀를 사용한 피보나치 수 구현하기"
   ]
  },
  {
   "cell_type": "code",
   "execution_count": 19,
   "metadata": {
    "tags": []
   },
   "outputs": [
    {
     "output_type": "stream",
     "name": "stdout",
     "text": "832040\n"
    }
   ],
   "source": [
    "n = int(input())\n",
    "\n",
    "def fivonacci(num):\n",
    "    if num == 0:\n",
    "        return num\n",
    "    if num == 1:\n",
    "        return num\n",
    "    return fivonacci(num - 1) + fivonacci(num - 2)\n",
    "\n",
    "print(fivonacci(n))\n"
   ]
  },
  {
   "cell_type": "markdown",
   "metadata": {},
   "source": [
    "## 2. 재귀를 사용한 별 찍기"
   ]
  },
  {
   "cell_type": "code",
   "execution_count": 16,
   "metadata": {
    "tags": []
   },
   "outputs": [
    {
     "output_type": "stream",
     "name": "stdout",
     "text": "***\n* *\n***\n"
    }
   ],
   "source": [
    "def stars(star_lst):\n",
    "    new_star_lst = []\n",
    "    for i in range(3 * len(star_lst)):\n",
    "        if i // len(star_lst) == 1:\n",
    "            new_star_lst.append(star_lst[i % len(star_lst)] + \" \" * len(star_lst) + star_lst[i % len(star_lst)])\n",
    "        else:\n",
    "            new_star_lst.append(star_lst[i % len(star_lst)] * 3)\n",
    "    return list(new_star_lst)\n",
    "\n",
    "star = [\"***\", \"* *\", '***']\n",
    "n = int(input())\n",
    "k = 0\n",
    "while n != 3:\n",
    "    n = int(n / 3)\n",
    "    k += 1\n",
    "\n",
    "for i in range(k):\n",
    "    star = stars(star)\n",
    "for i in star:\n",
    "    print(i)"
   ]
  },
  {
   "cell_type": "code",
   "execution_count": 24,
   "metadata": {
    "tags": []
   },
   "outputs": [
    {
     "output_type": "stream",
     "name": "stdout",
     "text": "7\n1 3\n1 2\n3 2\n1 3\n2 1\n2 3\n1 3\n"
    }
   ],
   "source": [
    "def hanoi_movement(n, a, b, c):\n",
    "    if n == 1:\n",
    "        movement.append((a, c))\n",
    "    else:\n",
    "        hanoi_movement(n-1, a, c, b)\n",
    "        movement.append((a, c))\n",
    "        hanoi_movement(n-1, b, a, c)\n",
    "\n",
    "n = int(input())\n",
    "movement = []\n",
    "hanoi_movement(n, 1, 2, 3)\n",
    "\n",
    "print(len(movement))\n",
    "for move in movement:\n",
    "    print(move[0], move[1])"
   ]
  },
  {
   "cell_type": "code",
   "execution_count": null,
   "metadata": {},
   "outputs": [],
   "source": []
  }
 ],
 "metadata": {
  "language_info": {
   "codemirror_mode": {
    "name": "ipython",
    "version": 3
   },
   "file_extension": ".py",
   "mimetype": "text/x-python",
   "name": "python",
   "nbconvert_exporter": "python",
   "pygments_lexer": "ipython3",
   "version": "3.7.7-final"
  },
  "orig_nbformat": 2,
  "kernelspec": {
   "name": "python37664bitbaseconda7ccc1197ea424c04aa8e970980241a68",
   "display_name": "Python 3.7.6 64-bit ('base': conda)"
  }
 },
 "nbformat": 4,
 "nbformat_minor": 2
}