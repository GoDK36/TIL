{
 "cells": [
  {
   "cell_type": "markdown",
   "metadata": {},
   "source": [
    "# 재귀"
   ]
  },
  {
   "cell_type": "code",
   "execution_count": 16,
   "metadata": {
    "tags": []
   },
   "outputs": [
    {
     "output_type": "stream",
     "name": "stdout",
     "text": "10\n9\n8\n7\n6\n5\n4\n3\n2\n1\nCount Finished!\nNone\n"
    }
   ],
   "source": [
    "def CountNum(num):\n",
    "    if num == 0:\n",
    "        print(\"Count Finished!\")\n",
    "    else:\n",
    "        print(num)\n",
    "        CountNum(num - 1)\n",
    "\n",
    "print(CountNum(10))"
   ]
  },
  {
   "cell_type": "markdown",
   "metadata": {},
   "source": [
    "## 1. 재귀를 사용한 팩토리얼 구현하기"
   ]
  },
  {
   "cell_type": "code",
   "execution_count": 2,
   "metadata": {
    "tags": []
   },
   "outputs": [
    {
     "output_type": "stream",
     "name": "stdout",
     "text": "362880\n"
    }
   ],
   "source": [
    "n = int(input())\n",
    "\n",
    "def factorial(num):\n",
    "    if num <= 1:\n",
    "        return(1)\n",
    "    return(num * factorial(num-1))\n",
    "\n",
    "print(factorial(n))"
   ]
  },
  {
   "cell_type": "markdown",
   "metadata": {},
   "source": [
    "## 2. 재귀를 사용한 피보나치 수 구현하기"
   ]
  },
  {
   "cell_type": "code",
   "execution_count": 19,
   "metadata": {
    "tags": []
   },
   "outputs": [
    {
     "output_type": "stream",
     "name": "stdout",
     "text": "832040\n"
    }
   ],
   "source": [
    "n = int(input())\n",
    "\n",
    "def fivonacci(num):\n",
    "    if num == 0:\n",
    "        return num\n",
    "    if num == 1:\n",
    "        return num\n",
    "    return fivonacci(num - 1) + fivonacci(num - 2)\n",
    "\n",
    "print(fivonacci(n))\n"
   ]
  },
  {
   "cell_type": "code",
   "execution_count": null,
   "metadata": {},
   "outputs": [],
   "source": []
  }
 ],
 "metadata": {
  "language_info": {
   "codemirror_mode": {
    "name": "ipython",
    "version": 3
   },
   "file_extension": ".py",
   "mimetype": "text/x-python",
   "name": "python",
   "nbconvert_exporter": "python",
   "pygments_lexer": "ipython3",
   "version": 3
  },
  "orig_nbformat": 2,
  "kernelspec": {
   "name": "python_defaultSpec_1594616904277",
   "display_name": "Python 3.7.7 64-bit ('base': conda)"
  }
 },
 "nbformat": 4,
 "nbformat_minor": 2
}